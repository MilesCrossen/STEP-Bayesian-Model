{
  "nbformat": 4,
  "nbformat_minor": 0,
  "metadata": {
    "colab": {
      "provenance": [],
      "authorship_tag": "ABX9TyOff0lRrKZ6LO4mm3Oz70v0",
      "include_colab_link": true
    },
    "kernelspec": {
      "name": "python3",
      "display_name": "Python 3"
    },
    "language_info": {
      "name": "python"
    }
  },
  "cells": [
    {
      "cell_type": "markdown",
      "metadata": {
        "id": "view-in-github",
        "colab_type": "text"
      },
      "source": [
        "<a href=\"https://colab.research.google.com/github/MilesCrossen/STEP-Bayesian-Model/blob/main/STEPBayesianProcessing.ipynb\" target=\"_parent\"><img src=\"https://colab.research.google.com/assets/colab-badge.svg\" alt=\"Open In Colab\"/></a>"
      ]
    },
    {
      "cell_type": "code",
      "execution_count": null,
      "metadata": {
        "colab": {
          "base_uri": "https://localhost:8080/"
        },
        "id": "ekH8t_6eWeDO",
        "outputId": "b87dbc9c-1010-4dab-d5c0-c990df7bec7f"
      },
      "outputs": [
        {
          "output_type": "stream",
          "name": "stdout",
          "text": [
            "\n",
            "Terminated by user.\n"
          ]
        }
      ],
      "source": [
        "import numpy as np # Cool math features\n",
        "from scipy.stats import norm # Stats, normal distribution\n",
        "import pandas as pd # For manipulating CSVs\n",
        "\n",
        "modes = { # Transport modes. Format: mean, standard deviation\n",
        "    \"Walking\": {\"mean\": 5, \"std\": 1},\n",
        "    \"Cycling\": {\"mean\": 15, \"std\": 4},\n",
        "    \"Bus\": {\"mean\": 20, \"std\": 6},\n",
        "    \"Driving\": {\"mean\": 50, \"std\": 15},\n",
        "    \"Train\": {\"mean\": 100, \"std\": 20}\n",
        "}\n",
        "\n",
        "prior_probs = {mode: 1/ len(modes) for mode in modes} # At first priors are just equal to one\n",
        "#another\n",
        "\n",
        "EPSILON = 1e-8 # Had this issue before where we'd have zero probabilities so therefore\n",
        "#could reach a point of no return (i.e. where walking equals 0.0000...%) so this is a floor\n",
        "\n",
        "def bayesian_update(observed_speed, prior_probs): # This is how we do function stuff in python\n",
        "    \"\"\"Performs one Bayesian update given observed speed and prior probabilities.\"\"\"\n",
        "    likelihoods = {}\n",
        "    posteriors = {}\n",
        "\n",
        "    for mode, stats in modes.items():#  Calc likelihoods w/epsilon floor\n",
        "        mu = stats[\"mean\"]\n",
        "        sigma = stats[\"std\"]\n",
        "        raw_likelihood = norm.pdf(observed_speed, loc=mu, scale=sigma)\n",
        "        likelihoods[mode] = max(raw_likelihood, EPSILON)\n",
        "\n",
        "    # This is for finding denominator of Bayes'\n",
        "    evidence = sum(max(prior_probs[mode], EPSILON) * likelihoods[mode] for mode in modes)\n",
        "\n",
        "    for mode in modes:\n",
        "        prior = max(prior_probs[mode], EPSILON)\n",
        "        posterior = (likelihoods[mode] * prior) / evidence\n",
        "        posteriors[mode] = posterior\n",
        "\n",
        "    df = pd.DataFrame({ #For displayying results\n",
        "        \"Mode\": list(modes.keys()),\n",
        "        \"Prior\": [prior_probs[mode] for mode in modes],\n",
        "        \"Likelihood\": [likelihoods[mode] for mode in modes],\n",
        "        \"Posterior\": [posteriors[mode] for mode in modes]\n",
        "    })\n",
        "\n",
        "    print(\"\\nBayesian Update Result for Speed = {:.2f} km/h:\".format(observed_speed))\n",
        "    print(df.to_string(index=False, float_format=\"{:.10f}\".format))\n",
        "    return posteriors# This becomes the next prior\n",
        "\n",
        "\n",
        "if __name__ == \"__main__\": # Repeating loop thingy\n",
        "    current_priors = prior_probs\n",
        "    try:\n",
        "        while True:\n",
        "            user_input = input(\"\\nEnter observed speed in km/h: \")\n",
        "            try:\n",
        "                speed = float(user_input)\n",
        "                current_priors = bayesian_update(speed, current_priors)\n",
        "            except ValueError:\n",
        "                print(\"Invalid input. Please enter a numeric speed.\")\n",
        "    except KeyboardInterrupt:\n",
        "        print(\"\\nTerminated by user.\")"
      ]
    }
  ]
}